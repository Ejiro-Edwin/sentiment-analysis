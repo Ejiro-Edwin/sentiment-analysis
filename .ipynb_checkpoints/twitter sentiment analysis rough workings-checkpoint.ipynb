{
 "cells": [
  {
   "cell_type": "code",
   "execution_count": null,
   "metadata": {},
   "outputs": [],
   "source": [
    "import pyodbc \n",
    "import mysql.connector as sqlcon \n",
    "import pandas as pd\n",
    "from datetime import datetime as dt, timedelta\n",
    "#from sqlalchemy import create_engine \n",
    "from dateutil.relativedelta import relativedelta \n",
    "import numpy as np "
   ]
  },
  {
   "cell_type": "code",
   "execution_count": null,
   "metadata": {},
   "outputs": [],
   "source": [
    "server = 'tcp:performancemlsvr.database.windows.net'\n",
    "database = 'Sentiments'\n",
    "username = 'performancemluser'\n",
    "password = 'Pa$$w0rd'\n",
    "driver = '{ODBC Driver 17 for SQL Server}'"
   ]
  },
  {
   "cell_type": "code",
   "execution_count": 3,
   "metadata": {},
   "outputs": [],
   "source": [
    "import git"
   ]
  },
  {
   "cell_type": "code",
   "execution_count": 2,
   "metadata": {},
   "outputs": [],
   "source": [
    "import hmac\n",
    "import hashlib"
   ]
  },
  {
   "cell_type": "code",
   "execution_count": 2,
   "metadata": {},
   "outputs": [],
   "source": [
    "mydb = sqlcon.connect(\n",
    "    host=\"localhost\",\n",
    "    user=\"root\",\n",
    "    passwd=\"phanmium\",\n",
    "    database=\"twitterdb\"\n",
    "    )"
   ]
  },
  {
   "cell_type": "code",
   "execution_count": 3,
   "metadata": {},
   "outputs": [],
   "source": [
    "term=\"mondaymotivation\""
   ]
  },
  {
   "cell_type": "code",
   "execution_count": 118,
   "metadata": {},
   "outputs": [],
   "source": [
    "df = pd.read_sql(\"SELECT * FROM sentiment WHERE term LIKE %s ORDER BY date DESC LIMIT 500\", mydb,\n",
    "                         params=('%' + term + '%',))"
   ]
  },
  {
   "cell_type": "code",
   "execution_count": 70,
   "metadata": {},
   "outputs": [],
   "source": [
    "mycursor = mydb.cursor()"
   ]
  },
  {
   "cell_type": "code",
   "execution_count": 142,
   "metadata": {},
   "outputs": [],
   "source": [
    "mydb.close()"
   ]
  },
  {
   "cell_type": "code",
   "execution_count": 5,
   "metadata": {},
   "outputs": [
    {
     "data": {
      "text/plain": [
       "date         0\n",
       "term         0\n",
       "tweet        0\n",
       "sentiment    0\n",
       "dtype: int64"
      ]
     },
     "execution_count": 5,
     "metadata": {},
     "output_type": "execute_result"
    }
   ],
   "source": [
    "df.isnull().sum()"
   ]
  },
  {
   "cell_type": "code",
   "execution_count": 141,
   "metadata": {},
   "outputs": [
    {
     "data": {
      "text/html": [
       "<div>\n",
       "<style scoped>\n",
       "    .dataframe tbody tr th:only-of-type {\n",
       "        vertical-align: middle;\n",
       "    }\n",
       "\n",
       "    .dataframe tbody tr th {\n",
       "        vertical-align: top;\n",
       "    }\n",
       "\n",
       "    .dataframe thead th {\n",
       "        text-align: right;\n",
       "    }\n",
       "</style>\n",
       "<table border=\"1\" class=\"dataframe\">\n",
       "  <thead>\n",
       "    <tr style=\"text-align: right;\">\n",
       "      <th></th>\n",
       "      <th>date</th>\n",
       "      <th>term</th>\n",
       "      <th>tweet</th>\n",
       "      <th>sentiment</th>\n",
       "      <th>index_date</th>\n",
       "    </tr>\n",
       "  </thead>\n",
       "  <tbody>\n",
       "    <tr>\n",
       "      <td>434</td>\n",
       "      <td>2019-10-21 16:04:00</td>\n",
       "      <td>MondayMotivation</td>\n",
       "      <td>RT @nnedv: What inspires you to get up in the ...</td>\n",
       "      <td>0.7555</td>\n",
       "      <td>2019-10-21 16:04:00</td>\n",
       "    </tr>\n",
       "    <tr>\n",
       "      <td>342</td>\n",
       "      <td>2019-10-21 16:04:26</td>\n",
       "      <td>MondayMotivation</td>\n",
       "      <td>RT @VibesFM973: #052Traffic Show Is Up W/ @Fai...</td>\n",
       "      <td>0.4824</td>\n",
       "      <td>2019-10-21 16:04:26</td>\n",
       "    </tr>\n",
       "    <tr>\n",
       "      <td>200</td>\n",
       "      <td>2019-10-21 16:05:02</td>\n",
       "      <td>MondayMotivation</td>\n",
       "      <td>Are you leaving money on the table? The art of...</td>\n",
       "      <td>0.0000</td>\n",
       "      <td>2019-10-21 16:05:02</td>\n",
       "    </tr>\n",
       "    <tr>\n",
       "      <td>270</td>\n",
       "      <td>2019-10-21 16:04:42</td>\n",
       "      <td>MondayMotivation</td>\n",
       "      <td>RT @MonChatEstRoi: Pour un bon #MondayMotivati...</td>\n",
       "      <td>0.0000</td>\n",
       "      <td>2019-10-21 16:04:42</td>\n",
       "    </tr>\n",
       "    <tr>\n",
       "      <td>80</td>\n",
       "      <td>2019-10-21 16:05:26</td>\n",
       "      <td>MondayMotivation</td>\n",
       "      <td>Paddle Boat Steering stopped working in middle...</td>\n",
       "      <td>-0.2263</td>\n",
       "      <td>2019-10-21 16:05:26</td>\n",
       "    </tr>\n",
       "  </tbody>\n",
       "</table>\n",
       "</div>"
      ],
      "text/plain": [
       "                   date              term  \\\n",
       "434 2019-10-21 16:04:00  MondayMotivation   \n",
       "342 2019-10-21 16:04:26  MondayMotivation   \n",
       "200 2019-10-21 16:05:02  MondayMotivation   \n",
       "270 2019-10-21 16:04:42  MondayMotivation   \n",
       "80  2019-10-21 16:05:26  MondayMotivation   \n",
       "\n",
       "                                                 tweet  sentiment  \\\n",
       "434  RT @nnedv: What inspires you to get up in the ...     0.7555   \n",
       "342  RT @VibesFM973: #052Traffic Show Is Up W/ @Fai...     0.4824   \n",
       "200  Are you leaving money on the table? The art of...     0.0000   \n",
       "270  RT @MonChatEstRoi: Pour un bon #MondayMotivati...     0.0000   \n",
       "80   Paddle Boat Steering stopped working in middle...    -0.2263   \n",
       "\n",
       "             index_date  \n",
       "434 2019-10-21 16:04:00  \n",
       "342 2019-10-21 16:04:26  \n",
       "200 2019-10-21 16:05:02  \n",
       "270 2019-10-21 16:04:42  \n",
       "80  2019-10-21 16:05:26  "
      ]
     },
     "execution_count": 141,
     "metadata": {},
     "output_type": "execute_result"
    }
   ],
   "source": [
    "df.sample(5)"
   ]
  },
  {
   "cell_type": "code",
   "execution_count": 120,
   "metadata": {},
   "outputs": [],
   "source": [
    "df[\"index_date\"] = df[\"date\"]"
   ]
  },
  {
   "cell_type": "code",
   "execution_count": 105,
   "metadata": {},
   "outputs": [
    {
     "data": {
      "text/plain": [
       "(500, 4)"
      ]
     },
     "execution_count": 105,
     "metadata": {},
     "output_type": "execute_result"
    }
   ],
   "source": [
    "df.shape"
   ]
  },
  {
   "cell_type": "code",
   "execution_count": 35,
   "metadata": {},
   "outputs": [
    {
     "data": {
      "text/plain": [
       "'MondayMotivation'"
      ]
     },
     "execution_count": 35,
     "metadata": {},
     "output_type": "execute_result"
    }
   ],
   "source": [
    "df.term.unique()[0]"
   ]
  },
  {
   "cell_type": "code",
   "execution_count": 65,
   "metadata": {},
   "outputs": [],
   "source": [
    "df['date'].max().to_pydatetime()"
   ]
  },
  {
   "cell_type": "code",
   "execution_count": 20,
   "metadata": {},
   "outputs": [
    {
     "data": {
      "text/plain": [
       "datetime.datetime(2019, 10, 1, 0, 0)"
      ]
     },
     "execution_count": 20,
     "metadata": {},
     "output_type": "execute_result"
    }
   ],
   "source": [
    "dt(2019, df['date'].max().to_pydatetime().month, 1)"
   ]
  },
  {
   "cell_type": "code",
   "execution_count": 63,
   "metadata": {},
   "outputs": [],
   "source": [
    "max_d = df['date'].max().to_pydatetime() \n",
    "min_d = df['date'].min().to_pydatetime() \n",
    "diff_d = max_d - min_d \n",
    "diff_d = diff_d.total_seconds() \n",
    "hours = diff_d//3600 \n",
    "days = hours//24\n",
    "weeks = days//7 \n",
    "months = weeks//4 \n",
    "years = months//12 "
   ]
  },
  {
   "cell_type": "code",
   "execution_count": 94,
   "metadata": {},
   "outputs": [
    {
     "data": {
      "text/plain": [
       "0.0"
      ]
     },
     "execution_count": 94,
     "metadata": {},
     "output_type": "execute_result"
    }
   ],
   "source": [
    "years "
   ]
  },
  {
   "cell_type": "code",
   "execution_count": 82,
   "metadata": {},
   "outputs": [
    {
     "data": {
      "text/plain": [
       "0.03666666666666667"
      ]
     },
     "execution_count": 82,
     "metadata": {},
     "output_type": "execute_result"
    }
   ],
   "source": [
    "diff_d/3600"
   ]
  },
  {
   "cell_type": "code",
   "execution_count": null,
   "metadata": {},
   "outputs": [],
   "source": [
    "if (diff_d.total_seconds()//3600) >1:\n",
    "    "
   ]
  },
  {
   "cell_type": "code",
   "execution_count": 35,
   "metadata": {},
   "outputs": [],
   "source": [
    "df.dropna(subset=['sentiment'], inplace=True)"
   ]
  },
  {
   "cell_type": "code",
   "execution_count": 49,
   "metadata": {},
   "outputs": [
    {
     "data": {
      "text/plain": [
       "(38, 2)"
      ]
     },
     "execution_count": 49,
     "metadata": {},
     "output_type": "execute_result"
    }
   ],
   "source": [
    "df.shape"
   ]
  },
  {
   "cell_type": "code",
   "execution_count": 46,
   "metadata": {},
   "outputs": [],
   "source": [
    "df.set_index('date', inplace=True)"
   ]
  },
  {
   "cell_type": "code",
   "execution_count": 95,
   "metadata": {},
   "outputs": [],
   "source": [
    "df = df.resample('5min').mean()"
   ]
  },
  {
   "cell_type": "code",
   "execution_count": 63,
   "metadata": {},
   "outputs": [
    {
     "data": {
      "text/plain": [
       "10"
      ]
     },
     "execution_count": 63,
     "metadata": {},
     "output_type": "execute_result"
    }
   ],
   "source": [
    "df['date'].min().month"
   ]
  },
  {
   "cell_type": "code",
   "execution_count": 65,
   "metadata": {},
   "outputs": [],
   "source": [
    "c=df['date'].max()"
   ]
  },
  {
   "cell_type": "code",
   "execution_count": 98,
   "metadata": {},
   "outputs": [
    {
     "data": {
      "text/plain": [
       "2019"
      ]
     },
     "execution_count": 98,
     "metadata": {},
     "output_type": "execute_result"
    }
   ],
   "source": [
    "df['date'].max().year"
   ]
  },
  {
   "cell_type": "code",
   "execution_count": 90,
   "metadata": {},
   "outputs": [],
   "source": [
    "def format_df(df):\n",
    "    df.sort_values('date', inplace=True)\n",
    "    df.set_index('date', inplace=True)\n",
    "    df = df.resample('5min').mean()\n",
    "    df.dropna(subset=['sentiment'], inplace=True)\n",
    "    #return df"
   ]
  },
  {
   "cell_type": "code",
   "execution_count": 132,
   "metadata": {},
   "outputs": [],
   "source": [
    "def format_d(df):\n",
    "    df.sort_values('date', inplace=True)\n",
    "    max_d = df['date'].max().to_pydatetime()\n",
    "    min_d = df['date'].min().to_pydatetime()\n",
    "    diff_d = max_d - min_d\n",
    "    diff_d = diff_d.total_seconds()\n",
    "    hours = diff_d // 3600\n",
    "    days = hours // 24\n",
    "    weeks = days // 7\n",
    "    months = weeks // 4\n",
    "    years = months // 12\n",
    "    print('diff_d is {}, '.format(diff_d))\n",
    "    if (diff_d <600):\n",
    "        df = df.resample('30S', on='index_date').mean()\n",
    "    elif (diff_d > 600 and diff_d <= 3600):\n",
    "        df = df.resample('1min', on='index_date').mean()\n",
    "    elif (hours > 1 and hours <= 12):\n",
    "        df = df.resample('30min', on='index_date').mean()\n",
    "    elif (hours > 12 and hours <= 24):\n",
    "        df = df.resample('60min', on='index_date').mean()\n",
    "    elif (days > 1 and days <= 7):\n",
    "        df = df.resample('8H', on='index_date').mean()\n",
    "    elif (days > 7 and days <= 31):\n",
    "        df = df.resample('1D', on='index_date').mean()\n",
    "    elif (months > 1 and months <= 8):\n",
    "        df = df.resample('1W', on='index_date').mean()\n",
    "    elif (months > 8 and months <= 24):\n",
    "        df = df.resample('1M', on='index_date').mean()\n",
    "    elif (years > 2 and years <= 10):\n",
    "        df = df.resample('1Q', on='index_date').mean()\n",
    "    elif (years > 20):\n",
    "        df = df.resample('1Y', on='index_date').mean()\n",
    "    df['date']=df.index.values\n",
    "    return df"
   ]
  },
  {
   "cell_type": "code",
   "execution_count": 133,
   "metadata": {},
   "outputs": [
    {
     "name": "stdout",
     "output_type": "stream",
     "text": [
      "diff_d is 132.0, \n"
     ]
    }
   ],
   "source": [
    "plot_df = format_d(df)"
   ]
  },
  {
   "cell_type": "code",
   "execution_count": 137,
   "metadata": {},
   "outputs": [
    {
     "data": {
      "text/plain": [
       "2019"
      ]
     },
     "execution_count": 137,
     "metadata": {},
     "output_type": "execute_result"
    }
   ],
   "source": [
    "plot_df['date'].max().year"
   ]
  },
  {
   "cell_type": "code",
   "execution_count": 140,
   "metadata": {},
   "outputs": [
    {
     "data": {
      "text/html": [
       "<div>\n",
       "<style scoped>\n",
       "    .dataframe tbody tr th:only-of-type {\n",
       "        vertical-align: middle;\n",
       "    }\n",
       "\n",
       "    .dataframe tbody tr th {\n",
       "        vertical-align: top;\n",
       "    }\n",
       "\n",
       "    .dataframe thead th {\n",
       "        text-align: right;\n",
       "    }\n",
       "</style>\n",
       "<table border=\"1\" class=\"dataframe\">\n",
       "  <thead>\n",
       "    <tr style=\"text-align: right;\">\n",
       "      <th></th>\n",
       "      <th>sentiment</th>\n",
       "      <th>date</th>\n",
       "    </tr>\n",
       "    <tr>\n",
       "      <th>index_date</th>\n",
       "      <th></th>\n",
       "      <th></th>\n",
       "    </tr>\n",
       "  </thead>\n",
       "  <tbody>\n",
       "    <tr>\n",
       "      <td>2019-10-21 16:03:30</td>\n",
       "      <td>0.123834</td>\n",
       "      <td>2019-10-21 16:03:30</td>\n",
       "    </tr>\n",
       "    <tr>\n",
       "      <td>2019-10-21 16:04:00</td>\n",
       "      <td>0.174247</td>\n",
       "      <td>2019-10-21 16:04:00</td>\n",
       "    </tr>\n",
       "    <tr>\n",
       "      <td>2019-10-21 16:04:30</td>\n",
       "      <td>0.198641</td>\n",
       "      <td>2019-10-21 16:04:30</td>\n",
       "    </tr>\n",
       "    <tr>\n",
       "      <td>2019-10-21 16:05:00</td>\n",
       "      <td>0.221519</td>\n",
       "      <td>2019-10-21 16:05:00</td>\n",
       "    </tr>\n",
       "    <tr>\n",
       "      <td>2019-10-21 16:05:30</td>\n",
       "      <td>0.149365</td>\n",
       "      <td>2019-10-21 16:05:30</td>\n",
       "    </tr>\n",
       "  </tbody>\n",
       "</table>\n",
       "</div>"
      ],
      "text/plain": [
       "                     sentiment                date\n",
       "index_date                                        \n",
       "2019-10-21 16:03:30   0.123834 2019-10-21 16:03:30\n",
       "2019-10-21 16:04:00   0.174247 2019-10-21 16:04:00\n",
       "2019-10-21 16:04:30   0.198641 2019-10-21 16:04:30\n",
       "2019-10-21 16:05:00   0.221519 2019-10-21 16:05:00\n",
       "2019-10-21 16:05:30   0.149365 2019-10-21 16:05:30"
      ]
     },
     "execution_count": 140,
     "metadata": {},
     "output_type": "execute_result"
    }
   ],
   "source": [
    "plot_df"
   ]
  },
  {
   "cell_type": "code",
   "execution_count": 135,
   "metadata": {},
   "outputs": [
    {
     "data": {
      "text/plain": [
       "sentiment           float64\n",
       "date         datetime64[ns]\n",
       "dtype: object"
      ]
     },
     "execution_count": 135,
     "metadata": {},
     "output_type": "execute_result"
    }
   ],
   "source": [
    "plot_df.dtypes"
   ]
  },
  {
   "cell_type": "code",
   "execution_count": 85,
   "metadata": {},
   "outputs": [
    {
     "data": {
      "text/html": [
       "<div>\n",
       "<style scoped>\n",
       "    .dataframe tbody tr th:only-of-type {\n",
       "        vertical-align: middle;\n",
       "    }\n",
       "\n",
       "    .dataframe tbody tr th {\n",
       "        vertical-align: top;\n",
       "    }\n",
       "\n",
       "    .dataframe thead th {\n",
       "        text-align: right;\n",
       "    }\n",
       "</style>\n",
       "<table border=\"1\" class=\"dataframe\">\n",
       "  <thead>\n",
       "    <tr style=\"text-align: right;\">\n",
       "      <th></th>\n",
       "      <th>term</th>\n",
       "      <th>tweet</th>\n",
       "      <th>sentiment</th>\n",
       "    </tr>\n",
       "    <tr>\n",
       "      <th>date</th>\n",
       "      <th></th>\n",
       "      <th></th>\n",
       "      <th></th>\n",
       "    </tr>\n",
       "  </thead>\n",
       "  <tbody>\n",
       "    <tr>\n",
       "      <td>2019-10-15 12:06:48</td>\n",
       "      <td>NationalBoyfriendDay</td>\n",
       "      <td>RT @snowberry_Kook: Jungkook is the only sweet...</td>\n",
       "      <td>0.7845</td>\n",
       "    </tr>\n",
       "    <tr>\n",
       "      <td>2019-10-15 12:09:40</td>\n",
       "      <td>NationalBoyfriendDay</td>\n",
       "      <td>RT @The_Ronkee: #NationalBoyfriendDay  my Love...</td>\n",
       "      <td>0.5267</td>\n",
       "    </tr>\n",
       "    <tr>\n",
       "      <td>2019-10-15 12:09:42</td>\n",
       "      <td>NationalBoyfriendDay</td>\n",
       "      <td>RT @duhhcarrots: Did you just said #NationalBo...</td>\n",
       "      <td>0.0000</td>\n",
       "    </tr>\n",
       "    <tr>\n",
       "      <td>2019-10-15 12:10:50</td>\n",
       "      <td>NationalBoyfriendDay</td>\n",
       "      <td>RT @snowberry_Kook: Jungkook is the only sweet...</td>\n",
       "      <td>0.7845</td>\n",
       "    </tr>\n",
       "    <tr>\n",
       "      <td>2019-10-15 12:12:59</td>\n",
       "      <td>NationalBoyfriendDay</td>\n",
       "      <td>RT @brycevibes: happy #NationalBoyfriendDay [?...</td>\n",
       "      <td>0.8442</td>\n",
       "    </tr>\n",
       "    <tr>\n",
       "      <td>2019-10-15 12:22:05</td>\n",
       "      <td>NationalBoyfriendDay</td>\n",
       "      <td>Throwback Thursday \\n#NationalBoyfriendDay #Th...</td>\n",
       "      <td>0.0000</td>\n",
       "    </tr>\n",
       "    <tr>\n",
       "      <td>2019-10-15 12:25:29</td>\n",
       "      <td>NationalBoyfriendDay</td>\n",
       "      <td>RT @lowqualityloey: happy #NationalBoyfriendDa...</td>\n",
       "      <td>0.5719</td>\n",
       "    </tr>\n",
       "    <tr>\n",
       "      <td>2019-10-15 12:34:15</td>\n",
       "      <td>NationalBoyfriendDay</td>\n",
       "      <td>RT @brycevibes: happy #NationalBoyfriendDay [?...</td>\n",
       "      <td>0.8442</td>\n",
       "    </tr>\n",
       "    <tr>\n",
       "      <td>2019-10-15 12:46:08</td>\n",
       "      <td>NationalBoyfriendDay</td>\n",
       "      <td>RT @marknqwon: Car ride shenanigans with my fi...</td>\n",
       "      <td>0.0000</td>\n",
       "    </tr>\n",
       "    <tr>\n",
       "      <td>2019-10-15 13:00:47</td>\n",
       "      <td>NationalBoyfriendDay</td>\n",
       "      <td>RT @picsjungwoo: #NationalBoyfriendDay exactly...</td>\n",
       "      <td>0.0000</td>\n",
       "    </tr>\n",
       "    <tr>\n",
       "      <td>2019-10-15 13:17:23</td>\n",
       "      <td>NationalBoyfriendDay</td>\n",
       "      <td>RT @yajahiratiller: in honor of #NationalBoyfr...</td>\n",
       "      <td>0.4939</td>\n",
       "    </tr>\n",
       "    <tr>\n",
       "      <td>2019-10-15 13:18:14</td>\n",
       "      <td>NationalBoyfriendDay</td>\n",
       "      <td>RT @dopekryss: #NationalBoyfriendDay @MisterCl...</td>\n",
       "      <td>0.0000</td>\n",
       "    </tr>\n",
       "    <tr>\n",
       "      <td>2019-10-15 13:26:00</td>\n",
       "      <td>NationalBoyfriendDay</td>\n",
       "      <td>RT @rubinstagram: #NationalBoyfriendDay  https...</td>\n",
       "      <td>0.0000</td>\n",
       "    </tr>\n",
       "    <tr>\n",
       "      <td>2019-10-15 13:28:04</td>\n",
       "      <td>NationalBoyfriendDay</td>\n",
       "      <td>RT @rubinstagram: #NationalBoyfriendDay  https...</td>\n",
       "      <td>0.0000</td>\n",
       "    </tr>\n",
       "    <tr>\n",
       "      <td>2019-10-15 13:37:44</td>\n",
       "      <td>NationalBoyfriendDay</td>\n",
       "      <td>RT @mommy_elzar: Sweet :) https://t.co/EJl2vBzoVC</td>\n",
       "      <td>0.7184</td>\n",
       "    </tr>\n",
       "    <tr>\n",
       "      <td>2019-10-15 13:40:33</td>\n",
       "      <td>NationalBoyfriendDay</td>\n",
       "      <td>RT @Meiluv17: If I have Pluem as BF, maybe I'l...</td>\n",
       "      <td>0.9134</td>\n",
       "    </tr>\n",
       "    <tr>\n",
       "      <td>2019-10-15 13:42:31</td>\n",
       "      <td>NationalBoyfriendDay</td>\n",
       "      <td>RT @walkingbisexual: one person, a thousand fe...</td>\n",
       "      <td>0.0000</td>\n",
       "    </tr>\n",
       "    <tr>\n",
       "      <td>2019-10-15 13:42:34</td>\n",
       "      <td>NationalBoyfriendDay</td>\n",
       "      <td>RT @brycevibes: happy #NationalBoyfriendDay [?...</td>\n",
       "      <td>0.8442</td>\n",
       "    </tr>\n",
       "    <tr>\n",
       "      <td>2019-10-15 13:46:47</td>\n",
       "      <td>NationalBoyfriendDay</td>\n",
       "      <td>RT @ModebolaOlaniyi: To y'all celebrating #Nat...</td>\n",
       "      <td>0.5719</td>\n",
       "    </tr>\n",
       "    <tr>\n",
       "      <td>2019-10-15 13:52:37</td>\n",
       "      <td>NationalBoyfriendDay</td>\n",
       "      <td>RT @visualsjaehyun: so it's jaehyun day? #Nati...</td>\n",
       "      <td>0.0000</td>\n",
       "    </tr>\n",
       "    <tr>\n",
       "      <td>2019-10-15 14:00:08</td>\n",
       "      <td>NationalBoyfriendDay</td>\n",
       "      <td>Apple iPhone 11- 64GB All Colors - GSM &amp;amp; C...</td>\n",
       "      <td>0.0000</td>\n",
       "    </tr>\n",
       "    <tr>\n",
       "      <td>2019-10-15 14:00:08</td>\n",
       "      <td>NationalBoyfriendDay</td>\n",
       "      <td>Apple iPhone 11- 64GB All Colors - GSM &amp;amp; C...</td>\n",
       "      <td>0.0000</td>\n",
       "    </tr>\n",
       "    <tr>\n",
       "      <td>2019-10-15 14:04:10</td>\n",
       "      <td>NationalBoyfriendDay</td>\n",
       "      <td>RT @Rebouwu: #NationalBoyfriendDay \\nI flippin...</td>\n",
       "      <td>0.6697</td>\n",
       "    </tr>\n",
       "    <tr>\n",
       "      <td>2019-10-15 14:04:10</td>\n",
       "      <td>NationalBoyfriendDay</td>\n",
       "      <td>RT @Rebouwu: #NationalBoyfriendDay \\nI flippin...</td>\n",
       "      <td>0.6697</td>\n",
       "    </tr>\n",
       "    <tr>\n",
       "      <td>2019-10-15 14:04:11</td>\n",
       "      <td>NationalBoyfriendDay</td>\n",
       "      <td>RT @BEDRYE4: Birlik olduk cumhutiyetimizi kurd...</td>\n",
       "      <td>0.0000</td>\n",
       "    </tr>\n",
       "    <tr>\n",
       "      <td>2019-10-15 14:04:11</td>\n",
       "      <td>NationalBoyfriendDay</td>\n",
       "      <td>RT @BEDRYE4: Birlik olduk cumhutiyetimizi kurd...</td>\n",
       "      <td>0.0000</td>\n",
       "    </tr>\n",
       "    <tr>\n",
       "      <td>2019-10-15 14:04:36</td>\n",
       "      <td>NationalBoyfriendDay</td>\n",
       "      <td>RT @MikaTheCurl: Getting a nice deep fuck afte...</td>\n",
       "      <td>0.2023</td>\n",
       "    </tr>\n",
       "    <tr>\n",
       "      <td>2019-10-15 14:04:36</td>\n",
       "      <td>NationalBoyfriendDay</td>\n",
       "      <td>RT @MikaTheCurl: Getting a nice deep fuck afte...</td>\n",
       "      <td>0.2023</td>\n",
       "    </tr>\n",
       "    <tr>\n",
       "      <td>2019-10-15 14:07:18</td>\n",
       "      <td>NationalBoyfriendDay</td>\n",
       "      <td>Send a drop of kindness,\\nAnd see a happy face...</td>\n",
       "      <td>0.7650</td>\n",
       "    </tr>\n",
       "    <tr>\n",
       "      <td>2019-10-15 14:07:38</td>\n",
       "      <td>NationalBoyfriendDay</td>\n",
       "      <td>Ricas tetas</td>\n",
       "      <td>0.0000</td>\n",
       "    </tr>\n",
       "  </tbody>\n",
       "</table>\n",
       "</div>"
      ],
      "text/plain": [
       "                                     term  \\\n",
       "date                                        \n",
       "2019-10-15 12:06:48  NationalBoyfriendDay   \n",
       "2019-10-15 12:09:40  NationalBoyfriendDay   \n",
       "2019-10-15 12:09:42  NationalBoyfriendDay   \n",
       "2019-10-15 12:10:50  NationalBoyfriendDay   \n",
       "2019-10-15 12:12:59  NationalBoyfriendDay   \n",
       "2019-10-15 12:22:05  NationalBoyfriendDay   \n",
       "2019-10-15 12:25:29  NationalBoyfriendDay   \n",
       "2019-10-15 12:34:15  NationalBoyfriendDay   \n",
       "2019-10-15 12:46:08  NationalBoyfriendDay   \n",
       "2019-10-15 13:00:47  NationalBoyfriendDay   \n",
       "2019-10-15 13:17:23  NationalBoyfriendDay   \n",
       "2019-10-15 13:18:14  NationalBoyfriendDay   \n",
       "2019-10-15 13:26:00  NationalBoyfriendDay   \n",
       "2019-10-15 13:28:04  NationalBoyfriendDay   \n",
       "2019-10-15 13:37:44  NationalBoyfriendDay   \n",
       "2019-10-15 13:40:33  NationalBoyfriendDay   \n",
       "2019-10-15 13:42:31  NationalBoyfriendDay   \n",
       "2019-10-15 13:42:34  NationalBoyfriendDay   \n",
       "2019-10-15 13:46:47  NationalBoyfriendDay   \n",
       "2019-10-15 13:52:37  NationalBoyfriendDay   \n",
       "2019-10-15 14:00:08  NationalBoyfriendDay   \n",
       "2019-10-15 14:00:08  NationalBoyfriendDay   \n",
       "2019-10-15 14:04:10  NationalBoyfriendDay   \n",
       "2019-10-15 14:04:10  NationalBoyfriendDay   \n",
       "2019-10-15 14:04:11  NationalBoyfriendDay   \n",
       "2019-10-15 14:04:11  NationalBoyfriendDay   \n",
       "2019-10-15 14:04:36  NationalBoyfriendDay   \n",
       "2019-10-15 14:04:36  NationalBoyfriendDay   \n",
       "2019-10-15 14:07:18  NationalBoyfriendDay   \n",
       "2019-10-15 14:07:38  NationalBoyfriendDay   \n",
       "\n",
       "                                                                 tweet  \\\n",
       "date                                                                     \n",
       "2019-10-15 12:06:48  RT @snowberry_Kook: Jungkook is the only sweet...   \n",
       "2019-10-15 12:09:40  RT @The_Ronkee: #NationalBoyfriendDay  my Love...   \n",
       "2019-10-15 12:09:42  RT @duhhcarrots: Did you just said #NationalBo...   \n",
       "2019-10-15 12:10:50  RT @snowberry_Kook: Jungkook is the only sweet...   \n",
       "2019-10-15 12:12:59  RT @brycevibes: happy #NationalBoyfriendDay [?...   \n",
       "2019-10-15 12:22:05  Throwback Thursday \\n#NationalBoyfriendDay #Th...   \n",
       "2019-10-15 12:25:29  RT @lowqualityloey: happy #NationalBoyfriendDa...   \n",
       "2019-10-15 12:34:15  RT @brycevibes: happy #NationalBoyfriendDay [?...   \n",
       "2019-10-15 12:46:08  RT @marknqwon: Car ride shenanigans with my fi...   \n",
       "2019-10-15 13:00:47  RT @picsjungwoo: #NationalBoyfriendDay exactly...   \n",
       "2019-10-15 13:17:23  RT @yajahiratiller: in honor of #NationalBoyfr...   \n",
       "2019-10-15 13:18:14  RT @dopekryss: #NationalBoyfriendDay @MisterCl...   \n",
       "2019-10-15 13:26:00  RT @rubinstagram: #NationalBoyfriendDay  https...   \n",
       "2019-10-15 13:28:04  RT @rubinstagram: #NationalBoyfriendDay  https...   \n",
       "2019-10-15 13:37:44  RT @mommy_elzar: Sweet :) https://t.co/EJl2vBzoVC   \n",
       "2019-10-15 13:40:33  RT @Meiluv17: If I have Pluem as BF, maybe I'l...   \n",
       "2019-10-15 13:42:31  RT @walkingbisexual: one person, a thousand fe...   \n",
       "2019-10-15 13:42:34  RT @brycevibes: happy #NationalBoyfriendDay [?...   \n",
       "2019-10-15 13:46:47  RT @ModebolaOlaniyi: To y'all celebrating #Nat...   \n",
       "2019-10-15 13:52:37  RT @visualsjaehyun: so it's jaehyun day? #Nati...   \n",
       "2019-10-15 14:00:08  Apple iPhone 11- 64GB All Colors - GSM &amp; C...   \n",
       "2019-10-15 14:00:08  Apple iPhone 11- 64GB All Colors - GSM &amp; C...   \n",
       "2019-10-15 14:04:10  RT @Rebouwu: #NationalBoyfriendDay \\nI flippin...   \n",
       "2019-10-15 14:04:10  RT @Rebouwu: #NationalBoyfriendDay \\nI flippin...   \n",
       "2019-10-15 14:04:11  RT @BEDRYE4: Birlik olduk cumhutiyetimizi kurd...   \n",
       "2019-10-15 14:04:11  RT @BEDRYE4: Birlik olduk cumhutiyetimizi kurd...   \n",
       "2019-10-15 14:04:36  RT @MikaTheCurl: Getting a nice deep fuck afte...   \n",
       "2019-10-15 14:04:36  RT @MikaTheCurl: Getting a nice deep fuck afte...   \n",
       "2019-10-15 14:07:18  Send a drop of kindness,\\nAnd see a happy face...   \n",
       "2019-10-15 14:07:38                                        Ricas tetas   \n",
       "\n",
       "                     sentiment  \n",
       "date                            \n",
       "2019-10-15 12:06:48     0.7845  \n",
       "2019-10-15 12:09:40     0.5267  \n",
       "2019-10-15 12:09:42     0.0000  \n",
       "2019-10-15 12:10:50     0.7845  \n",
       "2019-10-15 12:12:59     0.8442  \n",
       "2019-10-15 12:22:05     0.0000  \n",
       "2019-10-15 12:25:29     0.5719  \n",
       "2019-10-15 12:34:15     0.8442  \n",
       "2019-10-15 12:46:08     0.0000  \n",
       "2019-10-15 13:00:47     0.0000  \n",
       "2019-10-15 13:17:23     0.4939  \n",
       "2019-10-15 13:18:14     0.0000  \n",
       "2019-10-15 13:26:00     0.0000  \n",
       "2019-10-15 13:28:04     0.0000  \n",
       "2019-10-15 13:37:44     0.7184  \n",
       "2019-10-15 13:40:33     0.9134  \n",
       "2019-10-15 13:42:31     0.0000  \n",
       "2019-10-15 13:42:34     0.8442  \n",
       "2019-10-15 13:46:47     0.5719  \n",
       "2019-10-15 13:52:37     0.0000  \n",
       "2019-10-15 14:00:08     0.0000  \n",
       "2019-10-15 14:00:08     0.0000  \n",
       "2019-10-15 14:04:10     0.6697  \n",
       "2019-10-15 14:04:10     0.6697  \n",
       "2019-10-15 14:04:11     0.0000  \n",
       "2019-10-15 14:04:11     0.0000  \n",
       "2019-10-15 14:04:36     0.2023  \n",
       "2019-10-15 14:04:36     0.2023  \n",
       "2019-10-15 14:07:18     0.7650  \n",
       "2019-10-15 14:07:38     0.0000  "
      ]
     },
     "execution_count": 85,
     "metadata": {},
     "output_type": "execute_result"
    }
   ],
   "source": [
    "df"
   ]
  },
  {
   "cell_type": "code",
   "execution_count": 2,
   "metadata": {},
   "outputs": [],
   "source": [
    "dat='2019-10-09T14:07:38'"
   ]
  },
  {
   "cell_type": "code",
   "execution_count": 4,
   "metadata": {},
   "outputs": [],
   "source": [
    "dte = datetime.strptime(dat, \"%Y-%m-%dT%H:%M:%S\")"
   ]
  },
  {
   "cell_type": "code",
   "execution_count": 7,
   "metadata": {},
   "outputs": [
    {
     "data": {
      "text/plain": [
       "datetime.date(2019, 10, 9)"
      ]
     },
     "execution_count": 7,
     "metadata": {},
     "output_type": "execute_result"
    }
   ],
   "source": [
    "dte.date()"
   ]
  },
  {
   "cell_type": "code",
   "execution_count": 8,
   "metadata": {},
   "outputs": [
    {
     "data": {
      "text/plain": [
       "['2019-10-09', '14:07:38']"
      ]
     },
     "execution_count": 8,
     "metadata": {},
     "output_type": "execute_result"
    }
   ],
   "source": [
    "dat.split(\"T\")"
   ]
  },
  {
   "cell_type": "code",
   "execution_count": 9,
   "metadata": {},
   "outputs": [],
   "source": [
    "f='2019-10-09'"
   ]
  },
  {
   "cell_type": "code",
   "execution_count": 11,
   "metadata": {},
   "outputs": [],
   "source": [
    "d=f.split(\"T\")[0]"
   ]
  },
  {
   "cell_type": "code",
   "execution_count": 12,
   "metadata": {},
   "outputs": [
    {
     "data": {
      "text/plain": [
       "'2019-10-09'"
      ]
     },
     "execution_count": 12,
     "metadata": {},
     "output_type": "execute_result"
    }
   ],
   "source": [
    "d"
   ]
  },
  {
   "cell_type": "code",
   "execution_count": 111,
   "metadata": {},
   "outputs": [
    {
     "data": {
      "text/html": [
       "<div>\n",
       "<style scoped>\n",
       "    .dataframe tbody tr th:only-of-type {\n",
       "        vertical-align: middle;\n",
       "    }\n",
       "\n",
       "    .dataframe tbody tr th {\n",
       "        vertical-align: top;\n",
       "    }\n",
       "\n",
       "    .dataframe thead th {\n",
       "        text-align: right;\n",
       "    }\n",
       "</style>\n",
       "<table border=\"1\" class=\"dataframe\">\n",
       "  <thead>\n",
       "    <tr style=\"text-align: right;\">\n",
       "      <th></th>\n",
       "      <th>date</th>\n",
       "      <th>term</th>\n",
       "      <th>tweet</th>\n",
       "      <th>sentiment</th>\n",
       "      <th>ase</th>\n",
       "      <th>newdate</th>\n",
       "    </tr>\n",
       "  </thead>\n",
       "  <tbody>\n",
       "    <tr>\n",
       "      <td>0</td>\n",
       "      <td>2019-10-15 14:07:38</td>\n",
       "      <td>SexForGrades</td>\n",
       "      <td>Ricas tetas</td>\n",
       "      <td>250.00</td>\n",
       "      <td>2019-11-18 12:25:33.366669</td>\n",
       "      <td>2019-11-18 12:25:33.366669</td>\n",
       "    </tr>\n",
       "    <tr>\n",
       "      <td>1</td>\n",
       "      <td>2019-10-15 14:07:18</td>\n",
       "      <td>SexForGrades</td>\n",
       "      <td>Send a drop of kindness,\\nAnd see a happy face...</td>\n",
       "      <td>382.50</td>\n",
       "      <td>2019-11-18 12:25:33.366669</td>\n",
       "      <td>2019-11-18 12:25:33.366669</td>\n",
       "    </tr>\n",
       "    <tr>\n",
       "      <td>2</td>\n",
       "      <td>2019-10-15 14:04:36</td>\n",
       "      <td>SexForGrades</td>\n",
       "      <td>RT @MikaTheCurl: Getting a nice deep fuck afte...</td>\n",
       "      <td>101.15</td>\n",
       "      <td>2019-11-18 12:25:33.366669</td>\n",
       "      <td>2019-11-18 12:25:33.366669</td>\n",
       "    </tr>\n",
       "    <tr>\n",
       "      <td>3</td>\n",
       "      <td>2019-10-15 14:04:36</td>\n",
       "      <td>SexForGrades</td>\n",
       "      <td>RT @MikaTheCurl: Getting a nice deep fuck afte...</td>\n",
       "      <td>101.15</td>\n",
       "      <td>2019-11-18 12:25:33.366669</td>\n",
       "      <td>2019-11-18 12:25:33.366669</td>\n",
       "    </tr>\n",
       "    <tr>\n",
       "      <td>4</td>\n",
       "      <td>2019-10-15 14:04:11</td>\n",
       "      <td>SexForGrades</td>\n",
       "      <td>RT @BEDRYE4: Birlik olduk cumhutiyetimizi kurd...</td>\n",
       "      <td>250.00</td>\n",
       "      <td>2019-11-18 12:25:33.366669</td>\n",
       "      <td>2019-11-18 12:25:33.366669</td>\n",
       "    </tr>\n",
       "    <tr>\n",
       "      <td>5</td>\n",
       "      <td>2019-10-15 14:04:11</td>\n",
       "      <td>SexForGrades</td>\n",
       "      <td>RT @BEDRYE4: Birlik olduk cumhutiyetimizi kurd...</td>\n",
       "      <td>250.00</td>\n",
       "      <td>2019-11-18 12:25:33.366669</td>\n",
       "      <td>2019-11-18 12:25:33.366669</td>\n",
       "    </tr>\n",
       "    <tr>\n",
       "      <td>6</td>\n",
       "      <td>2019-10-15 14:04:10</td>\n",
       "      <td>SexForGrades</td>\n",
       "      <td>RT @Rebouwu: #NationalBoyfriendDay \\nI flippin...</td>\n",
       "      <td>334.85</td>\n",
       "      <td>2019-11-18 12:25:33.366669</td>\n",
       "      <td>2019-11-18 12:25:33.366669</td>\n",
       "    </tr>\n",
       "    <tr>\n",
       "      <td>7</td>\n",
       "      <td>2019-10-15 14:04:10</td>\n",
       "      <td>SexForGrades</td>\n",
       "      <td>RT @Rebouwu: #NationalBoyfriendDay \\nI flippin...</td>\n",
       "      <td>334.85</td>\n",
       "      <td>2019-11-18 12:25:33.366669</td>\n",
       "      <td>2019-11-18 12:25:33.366669</td>\n",
       "    </tr>\n",
       "    <tr>\n",
       "      <td>8</td>\n",
       "      <td>2019-10-15 14:00:08</td>\n",
       "      <td>SexForGrades</td>\n",
       "      <td>Apple iPhone 11- 64GB All Colors - GSM &amp;amp; C...</td>\n",
       "      <td>250.00</td>\n",
       "      <td>2019-11-18 12:25:33.366669</td>\n",
       "      <td>2019-11-18 12:25:33.366669</td>\n",
       "    </tr>\n",
       "    <tr>\n",
       "      <td>9</td>\n",
       "      <td>2019-10-15 14:00:08</td>\n",
       "      <td>SexForGrades</td>\n",
       "      <td>Apple iPhone 11- 64GB All Colors - GSM &amp;amp; C...</td>\n",
       "      <td>250.00</td>\n",
       "      <td>2019-11-18 12:25:33.366669</td>\n",
       "      <td>2019-11-18 12:25:33.366669</td>\n",
       "    </tr>\n",
       "  </tbody>\n",
       "</table>\n",
       "</div>"
      ],
      "text/plain": [
       "                 date          term  \\\n",
       "0 2019-10-15 14:07:38  SexForGrades   \n",
       "1 2019-10-15 14:07:18  SexForGrades   \n",
       "2 2019-10-15 14:04:36  SexForGrades   \n",
       "3 2019-10-15 14:04:36  SexForGrades   \n",
       "4 2019-10-15 14:04:11  SexForGrades   \n",
       "5 2019-10-15 14:04:11  SexForGrades   \n",
       "6 2019-10-15 14:04:10  SexForGrades   \n",
       "7 2019-10-15 14:04:10  SexForGrades   \n",
       "8 2019-10-15 14:00:08  SexForGrades   \n",
       "9 2019-10-15 14:00:08  SexForGrades   \n",
       "\n",
       "                                               tweet  sentiment  \\\n",
       "0                                        Ricas tetas     250.00   \n",
       "1  Send a drop of kindness,\\nAnd see a happy face...     382.50   \n",
       "2  RT @MikaTheCurl: Getting a nice deep fuck afte...     101.15   \n",
       "3  RT @MikaTheCurl: Getting a nice deep fuck afte...     101.15   \n",
       "4  RT @BEDRYE4: Birlik olduk cumhutiyetimizi kurd...     250.00   \n",
       "5  RT @BEDRYE4: Birlik olduk cumhutiyetimizi kurd...     250.00   \n",
       "6  RT @Rebouwu: #NationalBoyfriendDay \\nI flippin...     334.85   \n",
       "7  RT @Rebouwu: #NationalBoyfriendDay \\nI flippin...     334.85   \n",
       "8  Apple iPhone 11- 64GB All Colors - GSM &amp; C...     250.00   \n",
       "9  Apple iPhone 11- 64GB All Colors - GSM &amp; C...     250.00   \n",
       "\n",
       "                         ase                    newdate  \n",
       "0 2019-11-18 12:25:33.366669 2019-11-18 12:25:33.366669  \n",
       "1 2019-11-18 12:25:33.366669 2019-11-18 12:25:33.366669  \n",
       "2 2019-11-18 12:25:33.366669 2019-11-18 12:25:33.366669  \n",
       "3 2019-11-18 12:25:33.366669 2019-11-18 12:25:33.366669  \n",
       "4 2019-11-18 12:25:33.366669 2019-11-18 12:25:33.366669  \n",
       "5 2019-11-18 12:25:33.366669 2019-11-18 12:25:33.366669  \n",
       "6 2019-11-18 12:25:33.366669 2019-11-18 12:25:33.366669  \n",
       "7 2019-11-18 12:25:33.366669 2019-11-18 12:25:33.366669  \n",
       "8 2019-11-18 12:25:33.366669 2019-11-18 12:25:33.366669  \n",
       "9 2019-11-18 12:25:33.366669 2019-11-18 12:25:33.366669  "
      ]
     },
     "execution_count": 111,
     "metadata": {},
     "output_type": "execute_result"
    }
   ],
   "source": [
    "df.head(10)"
   ]
  }
 ],
 "metadata": {
  "kernelspec": {
   "display_name": "kitanKernel",
   "language": "python",
   "name": "kitankernel"
  },
  "language_info": {
   "codemirror_mode": {
    "name": "ipython",
    "version": 3
   },
   "file_extension": ".py",
   "mimetype": "text/x-python",
   "name": "python",
   "nbconvert_exporter": "python",
   "pygments_lexer": "ipython3",
   "version": "3.7.4"
  }
 },
 "nbformat": 4,
 "nbformat_minor": 2
}
