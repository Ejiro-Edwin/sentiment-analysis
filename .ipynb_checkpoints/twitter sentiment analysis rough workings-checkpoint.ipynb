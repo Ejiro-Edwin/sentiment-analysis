{
 "cells": [
  {
   "cell_type": "code",
   "execution_count": 1,
   "metadata": {},
   "outputs": [],
   "source": [
    "import mysql.connector as sqlcon \n",
    "import pandas as pd\n",
    "from datetime import datetime"
   ]
  },
  {
   "cell_type": "code",
   "execution_count": 96,
   "metadata": {},
   "outputs": [],
   "source": [
    "mydb = sqlcon.connect(\n",
    "    host=\"localhost\",\n",
    "    user=\"root\",\n",
    "    passwd=\"phanmium\",\n",
    "    database=\"twitterdb\"\n",
    "    )"
   ]
  },
  {
   "cell_type": "code",
   "execution_count": 53,
   "metadata": {},
   "outputs": [],
   "source": [
    "term=\"Nationalboyfriendday\""
   ]
  },
  {
   "cell_type": "code",
   "execution_count": 97,
   "metadata": {},
   "outputs": [],
   "source": [
    "df = pd.read_sql(\"SELECT * FROM sentiment WHERE term LIKE %s ORDER BY date DESC LIMIT 500\", mydb,\n",
    "                         params=('%' + term + '%',))\n",
    "mydb.close()"
   ]
  },
  {
   "cell_type": "code",
   "execution_count": 56,
   "metadata": {},
   "outputs": [
    {
     "data": {
      "text/plain": [
       "date         0\n",
       "term         0\n",
       "tweet        0\n",
       "sentiment    0\n",
       "dtype: int64"
      ]
     },
     "execution_count": 56,
     "metadata": {},
     "output_type": "execute_result"
    }
   ],
   "source": [
    "df.isnull().sum()"
   ]
  },
  {
   "cell_type": "code",
   "execution_count": 92,
   "metadata": {},
   "outputs": [
    {
     "data": {
      "text/html": [
       "<div>\n",
       "<style scoped>\n",
       "    .dataframe tbody tr th:only-of-type {\n",
       "        vertical-align: middle;\n",
       "    }\n",
       "\n",
       "    .dataframe tbody tr th {\n",
       "        vertical-align: top;\n",
       "    }\n",
       "\n",
       "    .dataframe thead th {\n",
       "        text-align: right;\n",
       "    }\n",
       "</style>\n",
       "<table border=\"1\" class=\"dataframe\">\n",
       "  <thead>\n",
       "    <tr style=\"text-align: right;\">\n",
       "      <th></th>\n",
       "      <th>term</th>\n",
       "      <th>tweet</th>\n",
       "      <th>sentiment</th>\n",
       "    </tr>\n",
       "    <tr>\n",
       "      <th>date</th>\n",
       "      <th></th>\n",
       "      <th></th>\n",
       "      <th></th>\n",
       "    </tr>\n",
       "  </thead>\n",
       "  <tbody>\n",
       "    <tr>\n",
       "      <td>2019-10-15 13:42:34</td>\n",
       "      <td>NationalBoyfriendDay</td>\n",
       "      <td>RT @brycevibes: happy #NationalBoyfriendDay [?...</td>\n",
       "      <td>0.8442</td>\n",
       "    </tr>\n",
       "    <tr>\n",
       "      <td>2019-10-15 14:04:36</td>\n",
       "      <td>NationalBoyfriendDay</td>\n",
       "      <td>RT @MikaTheCurl: Getting a nice deep fuck afte...</td>\n",
       "      <td>0.2023</td>\n",
       "    </tr>\n",
       "    <tr>\n",
       "      <td>2019-10-15 12:09:42</td>\n",
       "      <td>NationalBoyfriendDay</td>\n",
       "      <td>RT @duhhcarrots: Did you just said #NationalBo...</td>\n",
       "      <td>0.0000</td>\n",
       "    </tr>\n",
       "    <tr>\n",
       "      <td>2019-10-15 12:46:08</td>\n",
       "      <td>NationalBoyfriendDay</td>\n",
       "      <td>RT @marknqwon: Car ride shenanigans with my fi...</td>\n",
       "      <td>0.0000</td>\n",
       "    </tr>\n",
       "    <tr>\n",
       "      <td>2019-10-15 13:42:31</td>\n",
       "      <td>NationalBoyfriendDay</td>\n",
       "      <td>RT @walkingbisexual: one person, a thousand fe...</td>\n",
       "      <td>0.0000</td>\n",
       "    </tr>\n",
       "  </tbody>\n",
       "</table>\n",
       "</div>"
      ],
      "text/plain": [
       "                                     term  \\\n",
       "date                                        \n",
       "2019-10-15 13:42:34  NationalBoyfriendDay   \n",
       "2019-10-15 14:04:36  NationalBoyfriendDay   \n",
       "2019-10-15 12:09:42  NationalBoyfriendDay   \n",
       "2019-10-15 12:46:08  NationalBoyfriendDay   \n",
       "2019-10-15 13:42:31  NationalBoyfriendDay   \n",
       "\n",
       "                                                                 tweet  \\\n",
       "date                                                                     \n",
       "2019-10-15 13:42:34  RT @brycevibes: happy #NationalBoyfriendDay [?...   \n",
       "2019-10-15 14:04:36  RT @MikaTheCurl: Getting a nice deep fuck afte...   \n",
       "2019-10-15 12:09:42  RT @duhhcarrots: Did you just said #NationalBo...   \n",
       "2019-10-15 12:46:08  RT @marknqwon: Car ride shenanigans with my fi...   \n",
       "2019-10-15 13:42:31  RT @walkingbisexual: one person, a thousand fe...   \n",
       "\n",
       "                     sentiment  \n",
       "date                            \n",
       "2019-10-15 13:42:34     0.8442  \n",
       "2019-10-15 14:04:36     0.2023  \n",
       "2019-10-15 12:09:42     0.0000  \n",
       "2019-10-15 12:46:08     0.0000  \n",
       "2019-10-15 13:42:31     0.0000  "
      ]
     },
     "execution_count": 92,
     "metadata": {},
     "output_type": "execute_result"
    }
   ],
   "source": [
    "df.sample(5)"
   ]
  },
  {
   "cell_type": "code",
   "execution_count": 93,
   "metadata": {},
   "outputs": [
    {
     "data": {
      "text/plain": [
       "(30, 3)"
      ]
     },
     "execution_count": 93,
     "metadata": {},
     "output_type": "execute_result"
    }
   ],
   "source": [
    "df.shape"
   ]
  },
  {
   "cell_type": "code",
   "execution_count": 35,
   "metadata": {},
   "outputs": [],
   "source": [
    "df.dropna(subset=['sentiment'], inplace=True)"
   ]
  },
  {
   "cell_type": "code",
   "execution_count": 49,
   "metadata": {},
   "outputs": [
    {
     "data": {
      "text/plain": [
       "(38, 2)"
      ]
     },
     "execution_count": 49,
     "metadata": {},
     "output_type": "execute_result"
    }
   ],
   "source": [
    "df.shape"
   ]
  },
  {
   "cell_type": "code",
   "execution_count": 46,
   "metadata": {},
   "outputs": [],
   "source": [
    "df.set_index('date', inplace=True)"
   ]
  },
  {
   "cell_type": "code",
   "execution_count": 95,
   "metadata": {},
   "outputs": [],
   "source": [
    "df = df.resample('5min').mean()"
   ]
  },
  {
   "cell_type": "code",
   "execution_count": 63,
   "metadata": {},
   "outputs": [
    {
     "data": {
      "text/plain": [
       "10"
      ]
     },
     "execution_count": 63,
     "metadata": {},
     "output_type": "execute_result"
    }
   ],
   "source": [
    "df['date'].min().month"
   ]
  },
  {
   "cell_type": "code",
   "execution_count": 65,
   "metadata": {},
   "outputs": [],
   "source": [
    "c=df['date'].max()"
   ]
  },
  {
   "cell_type": "code",
   "execution_count": 98,
   "metadata": {},
   "outputs": [
    {
     "data": {
      "text/plain": [
       "2019"
      ]
     },
     "execution_count": 98,
     "metadata": {},
     "output_type": "execute_result"
    }
   ],
   "source": [
    "df['date'].max().year"
   ]
  },
  {
   "cell_type": "code",
   "execution_count": 90,
   "metadata": {},
   "outputs": [],
   "source": [
    "def format_df(df):\n",
    "    df.sort_values('date', inplace=True)\n",
    "    df.set_index('date', inplace=True)\n",
    "    df = df.resample('5min').mean()\n",
    "    df.dropna(subset=['sentiment'], inplace=True)\n",
    "    #return df"
   ]
  },
  {
   "cell_type": "code",
   "execution_count": 91,
   "metadata": {},
   "outputs": [],
   "source": [
    "format_df(df)"
   ]
  },
  {
   "cell_type": "code",
   "execution_count": 85,
   "metadata": {},
   "outputs": [
    {
     "data": {
      "text/html": [
       "<div>\n",
       "<style scoped>\n",
       "    .dataframe tbody tr th:only-of-type {\n",
       "        vertical-align: middle;\n",
       "    }\n",
       "\n",
       "    .dataframe tbody tr th {\n",
       "        vertical-align: top;\n",
       "    }\n",
       "\n",
       "    .dataframe thead th {\n",
       "        text-align: right;\n",
       "    }\n",
       "</style>\n",
       "<table border=\"1\" class=\"dataframe\">\n",
       "  <thead>\n",
       "    <tr style=\"text-align: right;\">\n",
       "      <th></th>\n",
       "      <th>term</th>\n",
       "      <th>tweet</th>\n",
       "      <th>sentiment</th>\n",
       "    </tr>\n",
       "    <tr>\n",
       "      <th>date</th>\n",
       "      <th></th>\n",
       "      <th></th>\n",
       "      <th></th>\n",
       "    </tr>\n",
       "  </thead>\n",
       "  <tbody>\n",
       "    <tr>\n",
       "      <td>2019-10-15 12:06:48</td>\n",
       "      <td>NationalBoyfriendDay</td>\n",
       "      <td>RT @snowberry_Kook: Jungkook is the only sweet...</td>\n",
       "      <td>0.7845</td>\n",
       "    </tr>\n",
       "    <tr>\n",
       "      <td>2019-10-15 12:09:40</td>\n",
       "      <td>NationalBoyfriendDay</td>\n",
       "      <td>RT @The_Ronkee: #NationalBoyfriendDay  my Love...</td>\n",
       "      <td>0.5267</td>\n",
       "    </tr>\n",
       "    <tr>\n",
       "      <td>2019-10-15 12:09:42</td>\n",
       "      <td>NationalBoyfriendDay</td>\n",
       "      <td>RT @duhhcarrots: Did you just said #NationalBo...</td>\n",
       "      <td>0.0000</td>\n",
       "    </tr>\n",
       "    <tr>\n",
       "      <td>2019-10-15 12:10:50</td>\n",
       "      <td>NationalBoyfriendDay</td>\n",
       "      <td>RT @snowberry_Kook: Jungkook is the only sweet...</td>\n",
       "      <td>0.7845</td>\n",
       "    </tr>\n",
       "    <tr>\n",
       "      <td>2019-10-15 12:12:59</td>\n",
       "      <td>NationalBoyfriendDay</td>\n",
       "      <td>RT @brycevibes: happy #NationalBoyfriendDay [?...</td>\n",
       "      <td>0.8442</td>\n",
       "    </tr>\n",
       "    <tr>\n",
       "      <td>2019-10-15 12:22:05</td>\n",
       "      <td>NationalBoyfriendDay</td>\n",
       "      <td>Throwback Thursday \\n#NationalBoyfriendDay #Th...</td>\n",
       "      <td>0.0000</td>\n",
       "    </tr>\n",
       "    <tr>\n",
       "      <td>2019-10-15 12:25:29</td>\n",
       "      <td>NationalBoyfriendDay</td>\n",
       "      <td>RT @lowqualityloey: happy #NationalBoyfriendDa...</td>\n",
       "      <td>0.5719</td>\n",
       "    </tr>\n",
       "    <tr>\n",
       "      <td>2019-10-15 12:34:15</td>\n",
       "      <td>NationalBoyfriendDay</td>\n",
       "      <td>RT @brycevibes: happy #NationalBoyfriendDay [?...</td>\n",
       "      <td>0.8442</td>\n",
       "    </tr>\n",
       "    <tr>\n",
       "      <td>2019-10-15 12:46:08</td>\n",
       "      <td>NationalBoyfriendDay</td>\n",
       "      <td>RT @marknqwon: Car ride shenanigans with my fi...</td>\n",
       "      <td>0.0000</td>\n",
       "    </tr>\n",
       "    <tr>\n",
       "      <td>2019-10-15 13:00:47</td>\n",
       "      <td>NationalBoyfriendDay</td>\n",
       "      <td>RT @picsjungwoo: #NationalBoyfriendDay exactly...</td>\n",
       "      <td>0.0000</td>\n",
       "    </tr>\n",
       "    <tr>\n",
       "      <td>2019-10-15 13:17:23</td>\n",
       "      <td>NationalBoyfriendDay</td>\n",
       "      <td>RT @yajahiratiller: in honor of #NationalBoyfr...</td>\n",
       "      <td>0.4939</td>\n",
       "    </tr>\n",
       "    <tr>\n",
       "      <td>2019-10-15 13:18:14</td>\n",
       "      <td>NationalBoyfriendDay</td>\n",
       "      <td>RT @dopekryss: #NationalBoyfriendDay @MisterCl...</td>\n",
       "      <td>0.0000</td>\n",
       "    </tr>\n",
       "    <tr>\n",
       "      <td>2019-10-15 13:26:00</td>\n",
       "      <td>NationalBoyfriendDay</td>\n",
       "      <td>RT @rubinstagram: #NationalBoyfriendDay  https...</td>\n",
       "      <td>0.0000</td>\n",
       "    </tr>\n",
       "    <tr>\n",
       "      <td>2019-10-15 13:28:04</td>\n",
       "      <td>NationalBoyfriendDay</td>\n",
       "      <td>RT @rubinstagram: #NationalBoyfriendDay  https...</td>\n",
       "      <td>0.0000</td>\n",
       "    </tr>\n",
       "    <tr>\n",
       "      <td>2019-10-15 13:37:44</td>\n",
       "      <td>NationalBoyfriendDay</td>\n",
       "      <td>RT @mommy_elzar: Sweet :) https://t.co/EJl2vBzoVC</td>\n",
       "      <td>0.7184</td>\n",
       "    </tr>\n",
       "    <tr>\n",
       "      <td>2019-10-15 13:40:33</td>\n",
       "      <td>NationalBoyfriendDay</td>\n",
       "      <td>RT @Meiluv17: If I have Pluem as BF, maybe I'l...</td>\n",
       "      <td>0.9134</td>\n",
       "    </tr>\n",
       "    <tr>\n",
       "      <td>2019-10-15 13:42:31</td>\n",
       "      <td>NationalBoyfriendDay</td>\n",
       "      <td>RT @walkingbisexual: one person, a thousand fe...</td>\n",
       "      <td>0.0000</td>\n",
       "    </tr>\n",
       "    <tr>\n",
       "      <td>2019-10-15 13:42:34</td>\n",
       "      <td>NationalBoyfriendDay</td>\n",
       "      <td>RT @brycevibes: happy #NationalBoyfriendDay [?...</td>\n",
       "      <td>0.8442</td>\n",
       "    </tr>\n",
       "    <tr>\n",
       "      <td>2019-10-15 13:46:47</td>\n",
       "      <td>NationalBoyfriendDay</td>\n",
       "      <td>RT @ModebolaOlaniyi: To y'all celebrating #Nat...</td>\n",
       "      <td>0.5719</td>\n",
       "    </tr>\n",
       "    <tr>\n",
       "      <td>2019-10-15 13:52:37</td>\n",
       "      <td>NationalBoyfriendDay</td>\n",
       "      <td>RT @visualsjaehyun: so it's jaehyun day? #Nati...</td>\n",
       "      <td>0.0000</td>\n",
       "    </tr>\n",
       "    <tr>\n",
       "      <td>2019-10-15 14:00:08</td>\n",
       "      <td>NationalBoyfriendDay</td>\n",
       "      <td>Apple iPhone 11- 64GB All Colors - GSM &amp;amp; C...</td>\n",
       "      <td>0.0000</td>\n",
       "    </tr>\n",
       "    <tr>\n",
       "      <td>2019-10-15 14:00:08</td>\n",
       "      <td>NationalBoyfriendDay</td>\n",
       "      <td>Apple iPhone 11- 64GB All Colors - GSM &amp;amp; C...</td>\n",
       "      <td>0.0000</td>\n",
       "    </tr>\n",
       "    <tr>\n",
       "      <td>2019-10-15 14:04:10</td>\n",
       "      <td>NationalBoyfriendDay</td>\n",
       "      <td>RT @Rebouwu: #NationalBoyfriendDay \\nI flippin...</td>\n",
       "      <td>0.6697</td>\n",
       "    </tr>\n",
       "    <tr>\n",
       "      <td>2019-10-15 14:04:10</td>\n",
       "      <td>NationalBoyfriendDay</td>\n",
       "      <td>RT @Rebouwu: #NationalBoyfriendDay \\nI flippin...</td>\n",
       "      <td>0.6697</td>\n",
       "    </tr>\n",
       "    <tr>\n",
       "      <td>2019-10-15 14:04:11</td>\n",
       "      <td>NationalBoyfriendDay</td>\n",
       "      <td>RT @BEDRYE4: Birlik olduk cumhutiyetimizi kurd...</td>\n",
       "      <td>0.0000</td>\n",
       "    </tr>\n",
       "    <tr>\n",
       "      <td>2019-10-15 14:04:11</td>\n",
       "      <td>NationalBoyfriendDay</td>\n",
       "      <td>RT @BEDRYE4: Birlik olduk cumhutiyetimizi kurd...</td>\n",
       "      <td>0.0000</td>\n",
       "    </tr>\n",
       "    <tr>\n",
       "      <td>2019-10-15 14:04:36</td>\n",
       "      <td>NationalBoyfriendDay</td>\n",
       "      <td>RT @MikaTheCurl: Getting a nice deep fuck afte...</td>\n",
       "      <td>0.2023</td>\n",
       "    </tr>\n",
       "    <tr>\n",
       "      <td>2019-10-15 14:04:36</td>\n",
       "      <td>NationalBoyfriendDay</td>\n",
       "      <td>RT @MikaTheCurl: Getting a nice deep fuck afte...</td>\n",
       "      <td>0.2023</td>\n",
       "    </tr>\n",
       "    <tr>\n",
       "      <td>2019-10-15 14:07:18</td>\n",
       "      <td>NationalBoyfriendDay</td>\n",
       "      <td>Send a drop of kindness,\\nAnd see a happy face...</td>\n",
       "      <td>0.7650</td>\n",
       "    </tr>\n",
       "    <tr>\n",
       "      <td>2019-10-15 14:07:38</td>\n",
       "      <td>NationalBoyfriendDay</td>\n",
       "      <td>Ricas tetas</td>\n",
       "      <td>0.0000</td>\n",
       "    </tr>\n",
       "  </tbody>\n",
       "</table>\n",
       "</div>"
      ],
      "text/plain": [
       "                                     term  \\\n",
       "date                                        \n",
       "2019-10-15 12:06:48  NationalBoyfriendDay   \n",
       "2019-10-15 12:09:40  NationalBoyfriendDay   \n",
       "2019-10-15 12:09:42  NationalBoyfriendDay   \n",
       "2019-10-15 12:10:50  NationalBoyfriendDay   \n",
       "2019-10-15 12:12:59  NationalBoyfriendDay   \n",
       "2019-10-15 12:22:05  NationalBoyfriendDay   \n",
       "2019-10-15 12:25:29  NationalBoyfriendDay   \n",
       "2019-10-15 12:34:15  NationalBoyfriendDay   \n",
       "2019-10-15 12:46:08  NationalBoyfriendDay   \n",
       "2019-10-15 13:00:47  NationalBoyfriendDay   \n",
       "2019-10-15 13:17:23  NationalBoyfriendDay   \n",
       "2019-10-15 13:18:14  NationalBoyfriendDay   \n",
       "2019-10-15 13:26:00  NationalBoyfriendDay   \n",
       "2019-10-15 13:28:04  NationalBoyfriendDay   \n",
       "2019-10-15 13:37:44  NationalBoyfriendDay   \n",
       "2019-10-15 13:40:33  NationalBoyfriendDay   \n",
       "2019-10-15 13:42:31  NationalBoyfriendDay   \n",
       "2019-10-15 13:42:34  NationalBoyfriendDay   \n",
       "2019-10-15 13:46:47  NationalBoyfriendDay   \n",
       "2019-10-15 13:52:37  NationalBoyfriendDay   \n",
       "2019-10-15 14:00:08  NationalBoyfriendDay   \n",
       "2019-10-15 14:00:08  NationalBoyfriendDay   \n",
       "2019-10-15 14:04:10  NationalBoyfriendDay   \n",
       "2019-10-15 14:04:10  NationalBoyfriendDay   \n",
       "2019-10-15 14:04:11  NationalBoyfriendDay   \n",
       "2019-10-15 14:04:11  NationalBoyfriendDay   \n",
       "2019-10-15 14:04:36  NationalBoyfriendDay   \n",
       "2019-10-15 14:04:36  NationalBoyfriendDay   \n",
       "2019-10-15 14:07:18  NationalBoyfriendDay   \n",
       "2019-10-15 14:07:38  NationalBoyfriendDay   \n",
       "\n",
       "                                                                 tweet  \\\n",
       "date                                                                     \n",
       "2019-10-15 12:06:48  RT @snowberry_Kook: Jungkook is the only sweet...   \n",
       "2019-10-15 12:09:40  RT @The_Ronkee: #NationalBoyfriendDay  my Love...   \n",
       "2019-10-15 12:09:42  RT @duhhcarrots: Did you just said #NationalBo...   \n",
       "2019-10-15 12:10:50  RT @snowberry_Kook: Jungkook is the only sweet...   \n",
       "2019-10-15 12:12:59  RT @brycevibes: happy #NationalBoyfriendDay [?...   \n",
       "2019-10-15 12:22:05  Throwback Thursday \\n#NationalBoyfriendDay #Th...   \n",
       "2019-10-15 12:25:29  RT @lowqualityloey: happy #NationalBoyfriendDa...   \n",
       "2019-10-15 12:34:15  RT @brycevibes: happy #NationalBoyfriendDay [?...   \n",
       "2019-10-15 12:46:08  RT @marknqwon: Car ride shenanigans with my fi...   \n",
       "2019-10-15 13:00:47  RT @picsjungwoo: #NationalBoyfriendDay exactly...   \n",
       "2019-10-15 13:17:23  RT @yajahiratiller: in honor of #NationalBoyfr...   \n",
       "2019-10-15 13:18:14  RT @dopekryss: #NationalBoyfriendDay @MisterCl...   \n",
       "2019-10-15 13:26:00  RT @rubinstagram: #NationalBoyfriendDay  https...   \n",
       "2019-10-15 13:28:04  RT @rubinstagram: #NationalBoyfriendDay  https...   \n",
       "2019-10-15 13:37:44  RT @mommy_elzar: Sweet :) https://t.co/EJl2vBzoVC   \n",
       "2019-10-15 13:40:33  RT @Meiluv17: If I have Pluem as BF, maybe I'l...   \n",
       "2019-10-15 13:42:31  RT @walkingbisexual: one person, a thousand fe...   \n",
       "2019-10-15 13:42:34  RT @brycevibes: happy #NationalBoyfriendDay [?...   \n",
       "2019-10-15 13:46:47  RT @ModebolaOlaniyi: To y'all celebrating #Nat...   \n",
       "2019-10-15 13:52:37  RT @visualsjaehyun: so it's jaehyun day? #Nati...   \n",
       "2019-10-15 14:00:08  Apple iPhone 11- 64GB All Colors - GSM &amp; C...   \n",
       "2019-10-15 14:00:08  Apple iPhone 11- 64GB All Colors - GSM &amp; C...   \n",
       "2019-10-15 14:04:10  RT @Rebouwu: #NationalBoyfriendDay \\nI flippin...   \n",
       "2019-10-15 14:04:10  RT @Rebouwu: #NationalBoyfriendDay \\nI flippin...   \n",
       "2019-10-15 14:04:11  RT @BEDRYE4: Birlik olduk cumhutiyetimizi kurd...   \n",
       "2019-10-15 14:04:11  RT @BEDRYE4: Birlik olduk cumhutiyetimizi kurd...   \n",
       "2019-10-15 14:04:36  RT @MikaTheCurl: Getting a nice deep fuck afte...   \n",
       "2019-10-15 14:04:36  RT @MikaTheCurl: Getting a nice deep fuck afte...   \n",
       "2019-10-15 14:07:18  Send a drop of kindness,\\nAnd see a happy face...   \n",
       "2019-10-15 14:07:38                                        Ricas tetas   \n",
       "\n",
       "                     sentiment  \n",
       "date                            \n",
       "2019-10-15 12:06:48     0.7845  \n",
       "2019-10-15 12:09:40     0.5267  \n",
       "2019-10-15 12:09:42     0.0000  \n",
       "2019-10-15 12:10:50     0.7845  \n",
       "2019-10-15 12:12:59     0.8442  \n",
       "2019-10-15 12:22:05     0.0000  \n",
       "2019-10-15 12:25:29     0.5719  \n",
       "2019-10-15 12:34:15     0.8442  \n",
       "2019-10-15 12:46:08     0.0000  \n",
       "2019-10-15 13:00:47     0.0000  \n",
       "2019-10-15 13:17:23     0.4939  \n",
       "2019-10-15 13:18:14     0.0000  \n",
       "2019-10-15 13:26:00     0.0000  \n",
       "2019-10-15 13:28:04     0.0000  \n",
       "2019-10-15 13:37:44     0.7184  \n",
       "2019-10-15 13:40:33     0.9134  \n",
       "2019-10-15 13:42:31     0.0000  \n",
       "2019-10-15 13:42:34     0.8442  \n",
       "2019-10-15 13:46:47     0.5719  \n",
       "2019-10-15 13:52:37     0.0000  \n",
       "2019-10-15 14:00:08     0.0000  \n",
       "2019-10-15 14:00:08     0.0000  \n",
       "2019-10-15 14:04:10     0.6697  \n",
       "2019-10-15 14:04:10     0.6697  \n",
       "2019-10-15 14:04:11     0.0000  \n",
       "2019-10-15 14:04:11     0.0000  \n",
       "2019-10-15 14:04:36     0.2023  \n",
       "2019-10-15 14:04:36     0.2023  \n",
       "2019-10-15 14:07:18     0.7650  \n",
       "2019-10-15 14:07:38     0.0000  "
      ]
     },
     "execution_count": 85,
     "metadata": {},
     "output_type": "execute_result"
    }
   ],
   "source": [
    "df"
   ]
  },
  {
   "cell_type": "code",
   "execution_count": 2,
   "metadata": {},
   "outputs": [],
   "source": [
    "dat='2019-10-09T14:07:38'"
   ]
  },
  {
   "cell_type": "code",
   "execution_count": 4,
   "metadata": {},
   "outputs": [],
   "source": [
    "dte = datetime.strptime(dat, \"%Y-%m-%dT%H:%M:%S\")"
   ]
  },
  {
   "cell_type": "code",
   "execution_count": 7,
   "metadata": {},
   "outputs": [
    {
     "data": {
      "text/plain": [
       "datetime.date(2019, 10, 9)"
      ]
     },
     "execution_count": 7,
     "metadata": {},
     "output_type": "execute_result"
    }
   ],
   "source": [
    "dte.date()"
   ]
  },
  {
   "cell_type": "code",
   "execution_count": 8,
   "metadata": {},
   "outputs": [
    {
     "data": {
      "text/plain": [
       "['2019-10-09', '14:07:38']"
      ]
     },
     "execution_count": 8,
     "metadata": {},
     "output_type": "execute_result"
    }
   ],
   "source": [
    "dat.split(\"T\")"
   ]
  },
  {
   "cell_type": "code",
   "execution_count": 9,
   "metadata": {},
   "outputs": [],
   "source": [
    "f='2019-10-09'"
   ]
  },
  {
   "cell_type": "code",
   "execution_count": 11,
   "metadata": {},
   "outputs": [],
   "source": [
    "d=f.split(\"T\")[0]"
   ]
  },
  {
   "cell_type": "code",
   "execution_count": 12,
   "metadata": {},
   "outputs": [
    {
     "data": {
      "text/plain": [
       "'2019-10-09'"
      ]
     },
     "execution_count": 12,
     "metadata": {},
     "output_type": "execute_result"
    }
   ],
   "source": [
    "d"
   ]
  }
 ],
 "metadata": {
  "kernelspec": {
   "display_name": "kitanKernel",
   "language": "python",
   "name": "kitankernel"
  },
  "language_info": {
   "codemirror_mode": {
    "name": "ipython",
    "version": 3
   },
   "file_extension": ".py",
   "mimetype": "text/x-python",
   "name": "python",
   "nbconvert_exporter": "python",
   "pygments_lexer": "ipython3",
   "version": "3.7.4"
  }
 },
 "nbformat": 4,
 "nbformat_minor": 2
}
